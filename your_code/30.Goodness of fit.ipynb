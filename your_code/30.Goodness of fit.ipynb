{
 "cells": [
  {
   "cell_type": "markdown",
   "metadata": {},
   "source": [
    "## Question 1\n",
    "The following table indicates the number of 6-point scores in an American rugby match in the 1979 season.\n",
    "\n",
    "![](table1.png)\n",
    "\n",
    "Based on these results, we create a Poisson distribution with the sample mean parameter  = 2.435. Is there any reason to believe that at a .05 level the number of scores is a Poisson variable?"
   ]
  },
  {
   "cell_type": "code",
   "execution_count": 1,
   "metadata": {},
   "outputs": [],
   "source": [
    "# your answer here\n",
    "alpha = 0.05\n",
    "P = 2.435\n",
    "n = 448\n",
    "timeinproblem = 1\n",
    "numberofsucceses = 3"
   ]
  },
  {
   "cell_type": "code",
   "execution_count": 16,
   "metadata": {},
   "outputs": [],
   "source": [
    "# libraries\n",
    "import pandas as pd\n",
    "import numpy as np\n",
    "import seaborn as sns\n",
    "from scipy import stats\n",
    "from scipy.stats import ttest_1samp\n",
    "import numpy as np\n",
    "from scipy.stats import norm\n",
    "from scipy.stats import sem\n",
    "from scipy.stats import t\n",
    "from scipy.stats import chi, chi2\n",
    "import matplotlib.pyplot as plt\n",
    "sns.set_style(\"darkgrid\")\n",
    "from statsmodels.stats.proportion import proportions_ztest"
   ]
  },
  {
   "cell_type": "code",
   "execution_count": 9,
   "metadata": {},
   "outputs": [
    {
     "name": "stdout",
     "output_type": "stream",
     "text": [
      "The probability that there are 6 scores within a game is: 0.210784\n"
     ]
    }
   ],
   "source": [
    "lambda_possoin = P * timeinproblem\n",
    "poisson = stats.poisson(lambda_possoin)\n",
    "# Draw random samples\n",
    "print('The probability that there are 6 scores within a game is:', round(poisson.pmf(numberofsucceses), 6))"
   ]
  },
  {
   "cell_type": "code",
   "execution_count": 10,
   "metadata": {},
   "outputs": [],
   "source": [
    "scores = [0,1,2,3,4,5,6,7]\n",
    "observed = [35,99,104,110,62,25,10,3]"
   ]
  },
  {
   "cell_type": "code",
   "execution_count": 14,
   "metadata": {},
   "outputs": [
    {
     "name": "stdout",
     "output_type": "stream",
     "text": [
      "39.243790677529816\n",
      "95.55863029978511\n",
      "116.34263238998835\n",
      "94.4314366232072\n",
      "57.48513704437739\n",
      "27.995261740611806\n",
      "11.361410389731613\n",
      "3.952147756999499\n",
      "CHI = 5.526588649191276\n",
      "Critical value is = 12.591587243743977\n",
      "\n",
      "Unfortunately, it is not possible to ascertain whether H0 could be rejected\n"
     ]
    }
   ],
   "source": [
    "n = np.sum(observed)\n",
    "expected = []\n",
    "for i in scores:\n",
    "    a = poisson.pmf(i)*n\n",
    "    print(a)\n",
    "    expected.append(a)\n",
    "diff = np.subtract(observed, expected)\n",
    "chi_squared = np.sum(np.divide(np.square(diff),expected))\n",
    "\n",
    "print(\"CHI =\", chi_squared)\n",
    "\n",
    "df = len(observed) - 1 - 1 #we want to estimate 1 parameter and we have 1 to reduce as baseline. \n",
    "dist = chi2(df)\n",
    "criticalvalue = dist.ppf(1-alpha)\n",
    "\n",
    "print (\"Critical value is =\", criticalvalue)\n",
    "print(\"\")\n",
    "\n",
    "if chi_squared> criticalvalue:\n",
    "    print(\"Yes, H0 should be rejected\")\n",
    "else: \n",
    "    print(\"Unfortunately, it is not possible to ascertain whether H0 could be rejected\")"
   ]
  },
  {
   "cell_type": "code",
   "execution_count": 17,
   "metadata": {},
   "outputs": [
    {
     "data": {
      "text/plain": [
       "Text(0, 0.5, 'Probability')"
      ]
     },
     "execution_count": 17,
     "metadata": {},
     "output_type": "execute_result"
    },
    {
     "data": {
      "image/png": "[encoded data removed]",
      "text/plain": [
       "<Figure size 432x288 with 1 Axes>"
      ]
     },
     "metadata": {},
     "output_type": "display_data"
    }
   ],
   "source": [
    "x = np.arange(0,10)\n",
    "fig, ax = plt.subplots(1, 1)\n",
    "ax.plot(x, poisson.pmf(x,), 'bo', ms=1, label='poisson pmf')\n",
    "#Plot axis vertical lines\n",
    "ax.vlines(x, 0, poisson.pmf(x), colors='b', lw=5, alpha=0.5)\n",
    "plt.xlabel('Number of Scores')\n",
    "plt.ylabel('Probability')"
   ]
  },
  {
   "cell_type": "markdown",
   "metadata": {},
   "source": [
    "## BONUS/OPTIONAL - Question 2\n",
    "Let's analyze a discrete distribution. To analyze the number of defective items in a factory in the city of Medellín, we took a random sample of n = 60 articles and observed the number of defectives in the following table:\n",
    "\n",
    "![](table2.png)\n",
    "\n",
    "A poissón distribution was proposed since it is defined for x = 0,1,2,3, .... using the following model:\n",
    "\n",
    "![](image1.png)\n",
    "\n",
    "For some extra insights check the following link: https://online.stat.psu.edu/stat504/node/63/ \n",
    "\n",
    "Does the distribution of defective items follow this distribution?"
   ]
  },
  {
   "cell_type": "code",
   "execution_count": 22,
   "metadata": {},
   "outputs": [],
   "source": [
    "# your code here\n",
    "defects = [0,1,3,4]\n",
    "observed = [32,15,9,4]\n",
    "P = 3.92"
   ]
  },
  {
   "cell_type": "code",
   "execution_count": 23,
   "metadata": {},
   "outputs": [
    {
     "data": {
      "text/plain": [
       "<scipy.stats._distn_infrastructure.rv_frozen at 0x1fee97079a0>"
      ]
     },
     "execution_count": 23,
     "metadata": {},
     "output_type": "execute_result"
    }
   ],
   "source": [
    "timeinproblem = 1\n",
    "lambda_possoin = P * timeinproblem\n",
    "poisson = stats.poisson(lambda_possoin)\n",
    "poisson"
   ]
  },
  {
   "cell_type": "code",
   "execution_count": 26,
   "metadata": {},
   "outputs": [
    {
     "name": "stdout",
     "output_type": "stream",
     "text": [
      "1.1904656846622172\n",
      "4.666625483875892\n",
      "11.951538972571745\n",
      "11.712508193120309\n",
      "here we have the CHI:  826.0468712197\n",
      "Critical value is this one here:  5.991464547107979\n",
      "\n",
      "Yes, H0 should be rejected\n"
     ]
    }
   ],
   "source": [
    "n = np.sum(observed)\n",
    "expected = []\n",
    "for i in defects:\n",
    "    a = poisson.pmf(i)*n\n",
    "    print(a)\n",
    "    expected.append(a)\n",
    "diff = np.subtract(observed, expected)\n",
    "chi_squared = np.sum(np.divide(np.square(diff),expected))\n",
    "\n",
    "print(\"here we have the CHI: \", chi_squared)\n",
    "\n",
    "df = len(observed) - 1 - 1 #we want to estimate 1 parameter and we have 1 to reduce as baseline. \n",
    "dist = chi2(df)\n",
    "criticalvalue = dist.ppf(1-alpha)\n",
    "\n",
    "print (\"Critical value is this one here: \", criticalvalue)\n",
    "print(\"\")\n",
    "\n",
    "if chi_squared> criticalvalue:\n",
    "    print(\"Yes, H0 should be rejected\")\n",
    "else: \n",
    "    print(\"Unfortunately, it is not possible to ascertain whether H0 could be rejected\")"
   ]
  },
  {
   "cell_type": "markdown",
   "metadata": {},
   "source": [
    "## Question 3\n",
    "A quality control engineer takes a sample of 10 tires that come out of an assembly line, and would like to verify on the basis of the data that follows, if the number of tires with defects observed over 200 days, if it is true that 5% of all tires have defects (that is, if the sample comes from a binomial population with n = 10 and p = 0.05). \n",
    "\n",
    "![](table3.png)\n"
   ]
  },
  {
   "cell_type": "code",
   "execution_count": 28,
   "metadata": {},
   "outputs": [
    {
     "data": {
      "text/plain": [
       "0.9999999999999999"
      ]
     },
     "execution_count": 28,
     "metadata": {},
     "output_type": "execute_result"
    }
   ],
   "source": [
    "# your answer here\n",
    "from scipy.stats import binom\n",
    "from scipy.stats import binom_test\n",
    "p=0.05\n",
    "x = 53 + 9\n",
    "binom_test(x, n=200, p=0.05, alternative='less')"
   ]
  },
  {
   "cell_type": "markdown",
   "metadata": {},
   "source": [
    "## Question 4\n",
    "A researcher gathers information about the patterns of Physical Activity of children in the fifth grade of primary school of a public school. He defines three categories of physical activity (Low, Medium, High). He also inquires about the regular consumption of sugary drinks at school, and defines two categories (Yes = consumed, No = not consumed). We would like to evaluate if there is an association between patterns of physical activity and the consumption of sugary drinks for the children of this school, at a level of 5% significance. The results are in the following table: \n",
    "\n",
    "![](table4.png)"
   ]
  },
  {
   "cell_type": "code",
   "execution_count": 29,
   "metadata": {},
   "outputs": [
    {
     "data": {
      "text/plain": [
       "0.9999999999999999"
      ]
     },
     "execution_count": 29,
     "metadata": {},
     "output_type": "execute_result"
    }
   ],
   "source": [
    "#your answer here: \n",
    "\n",
    "# Low Activity Sugar comsuption:\n",
    "\n",
    "p=0.05\n",
    "x = 32\n",
    "binom_test(x, n=44, p=0.05, alternative='less')"
   ]
  },
  {
   "cell_type": "code",
   "execution_count": null,
   "metadata": {},
   "outputs": [],
   "source": [
    "'''\n",
    "Not sure as to how to conclude based on the data provided and analysis conducted. \n",
    "As an improvement area, it may be better to use a different model, departing from categorical one,\n",
    "for instance, average minutes per week of activity, and then run ANOVA on top of it.\n",
    "According to the above results it may be concluded that sugar intake is influencing low activity.\n",
    "'''"
   ]
  },
  {
   "cell_type": "code",
   "execution_count": 30,
   "metadata": {},
   "outputs": [
    {
     "data": {
      "text/plain": [
       "0.9999999999378727"
      ]
     },
     "execution_count": 30,
     "metadata": {},
     "output_type": "execute_result"
    }
   ],
   "source": [
    "# Medium Activity Sugar comsuption\n",
    "p=0.05\n",
    "x = 14\n",
    "binom_test(x, n=36, p=0.05, alternative='less')"
   ]
  },
  {
   "cell_type": "code",
   "execution_count": 31,
   "metadata": {},
   "outputs": [
    {
     "data": {
      "text/plain": [
       "0.9999964818001033"
      ]
     },
     "execution_count": 31,
     "metadata": {},
     "output_type": "execute_result"
    }
   ],
   "source": [
    "# High Activity Sugar comsuption\n",
    "p=0.05\n",
    "x = 6\n",
    "binom_test(x, n=15, p=0.05, alternative='less')"
   ]
  },
  {
   "cell_type": "code",
   "execution_count": 32,
   "metadata": {},
   "outputs": [
    {
     "data": {
      "text/plain": [
       "0.9999999999999999"
      ]
     },
     "execution_count": 32,
     "metadata": {},
     "output_type": "execute_result"
    }
   ],
   "source": [
    "# Total Activity Sugar comsuption\n",
    "p=0.05\n",
    "x = 52\n",
    "binom_test(x, n=95, p=0.05, alternative='less')"
   ]
  }
 ],
 "metadata": {
  "kernelspec": {
   "display_name": "Python 3",
   "language": "python",
   "name": "python3"
  },
  "language_info": {
   "codemirror_mode": {
    "name": "ipython",
    "version": 3
   },
   "file_extension": ".py",
   "mimetype": "text/x-python",
   "name": "python",
   "nbconvert_exporter": "python",
   "pygments_lexer": "ipython3",
   "version": "3.8.5"
  }
 },
 "nbformat": 4,
 "nbformat_minor": 4
}
